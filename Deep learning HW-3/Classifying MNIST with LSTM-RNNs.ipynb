{
 "cells": [
  {
   "cell_type": "code",
   "execution_count": 267,
   "metadata": {},
   "outputs": [],
   "source": [
    "import torch \n",
    "import torch.nn as nn\n",
    "import torchvision\n",
    "import torchvision.transforms as transforms\n",
    "import matplotlib.pyplot as plt\n",
    "import numpy as np"
   ]
  },
  {
   "cell_type": "code",
   "execution_count": 268,
   "metadata": {},
   "outputs": [],
   "source": [
    "# Device configuration\n",
    "device = torch.device('cuda' if torch.cuda.is_available() else 'cpu')"
   ]
  },
  {
   "cell_type": "code",
   "execution_count": 278,
   "metadata": {},
   "outputs": [],
   "source": [
    "# Hyper-parameters\n",
    "sequence_length = 28\n",
    "input_size = 28\n",
    "hidden_size = 128\n",
    "num_layers = 3\n",
    "num_classes = 10\n",
    "batch_size = 100\n",
    "num_epochs = 30\n",
    "learning_rate = 0.01"
   ]
  },
  {
   "cell_type": "code",
   "execution_count": 270,
   "metadata": {},
   "outputs": [],
   "source": [
    "# MNIST dataset\n",
    "train_dataset = torchvision.datasets.MNIST(root='../data/',\n",
    "                                           train=True, \n",
    "                                           transform=transforms.ToTensor(),\n",
    "                                           download=True)\n",
    "\n",
    "test_dataset = torchvision.datasets.MNIST(root='../data/',\n",
    "                                          train=False, \n",
    "                                          transform=transforms.ToTensor())\n",
    "\n",
    "# Data loader\n",
    "train_loader = torch.utils.data.DataLoader(dataset=train_dataset,\n",
    "                                           batch_size=batch_size, \n",
    "                                           shuffle=True)\n",
    "\n",
    "test_loader = torch.utils.data.DataLoader(dataset=test_dataset,\n",
    "                                          batch_size=batch_size, \n",
    "                                          shuffle=False)"
   ]
  },
  {
   "cell_type": "code",
   "execution_count": 279,
   "metadata": {},
   "outputs": [],
   "source": [
    "# Recurrent neural network (many-to-one)\n",
    "class RNN(nn.Module):\n",
    "    def __init__(self, input_size, hidden_size, num_layers, num_classes):\n",
    "        super(RNN, self).__init__()\n",
    "        self.hidden_size = hidden_size\n",
    "        self.num_layers = num_layers\n",
    "        self.gru = nn.GRU(input_size, hidden_size, num_layers, batch_first=True, bidirectional = True, dropout = 0.1)\n",
    "        self.fc = nn.Linear(2 * hidden_size, num_classes)\n",
    "    \n",
    "    def forward(self, x):\n",
    "        # Set initial hidden and cell states \n",
    "        h0 = torch.zeros(2*self.num_layers, x.size(0), self.hidden_size).to(device) \n",
    "        c0 = torch.zeros(2*self.num_layers, x.size(0), self.hidden_size).to(device)\n",
    "        \n",
    "        # Forward propagate LSTM\n",
    "        out, _ = self.gru(x, h0)  # out: tensor of shape (batch_size, seq_length, hidden_size)\n",
    "        \n",
    "        # Decode the hidden state of the last time step\n",
    "        out = self.fc(out[:, -1, :])\n",
    "        return out\n",
    "\n",
    "model = RNN(input_size, hidden_size, num_layers, num_classes).to(device)"
   ]
  },
  {
   "cell_type": "code",
   "execution_count": 280,
   "metadata": {},
   "outputs": [],
   "source": [
    "# Loss and optimizer\n",
    "criterion = nn.CrossEntropyLoss()\n",
    "optimizer = torch.optim.Adam(model.parameters(), lr=learning_rate, betas = (0.94,0.95))\n",
    "scheduler = torch.optim.lr_scheduler.ReduceLROnPlateau(optimizer, patience = 1, factor = 0.5)"
   ]
  },
  {
   "cell_type": "code",
   "execution_count": 281,
   "metadata": {},
   "outputs": [
    {
     "name": "stdout",
     "output_type": "stream",
     "text": [
      "Test Accuracy of the model on the 10000 test images: 95.56 %\n",
      "Epoch [1/30], Step [600/600], Loss: 0.2368\n",
      "Test Accuracy of the model on the 10000 test images: 95.57 %\n",
      "Epoch [2/30], Step [600/600], Loss: 0.1709\n",
      "Test Accuracy of the model on the 10000 test images: 93.8 %\n",
      "Epoch [3/30], Step [600/600], Loss: 0.2413\n",
      "Test Accuracy of the model on the 10000 test images: 95.98 %\n",
      "Epoch [4/30], Step [600/600], Loss: 0.1228\n",
      "Test Accuracy of the model on the 10000 test images: 96.12 %\n",
      "Epoch [5/30], Step [600/600], Loss: 0.1076\n",
      "Test Accuracy of the model on the 10000 test images: 97.33 %\n",
      "Epoch [6/30], Step [600/600], Loss: 0.0526\n",
      "Test Accuracy of the model on the 10000 test images: 97.57 %\n",
      "Epoch [7/30], Step [600/600], Loss: 0.0753\n",
      "Test Accuracy of the model on the 10000 test images: 97.92 %\n",
      "Epoch [8/30], Step [600/600], Loss: 0.0326\n",
      "Test Accuracy of the model on the 10000 test images: 98.02 %\n",
      "Epoch [9/30], Step [600/600], Loss: 0.0379\n",
      "Test Accuracy of the model on the 10000 test images: 98.29 %\n",
      "Epoch [10/30], Step [600/600], Loss: 0.0675\n",
      "Test Accuracy of the model on the 10000 test images: 98.03 %\n",
      "Epoch [11/30], Step [600/600], Loss: 0.0756\n",
      "Test Accuracy of the model on the 10000 test images: 98.13 %\n",
      "Epoch [12/30], Step [600/600], Loss: 0.0217\n",
      "Test Accuracy of the model on the 10000 test images: 98.43 %\n",
      "Epoch [13/30], Step [600/600], Loss: 0.0760\n",
      "Test Accuracy of the model on the 10000 test images: 98.53 %\n",
      "Epoch [14/30], Step [600/600], Loss: 0.0196\n",
      "Test Accuracy of the model on the 10000 test images: 98.38 %\n",
      "Epoch [15/30], Step [600/600], Loss: 0.0153\n",
      "Test Accuracy of the model on the 10000 test images: 98.55 %\n",
      "Epoch [16/30], Step [600/600], Loss: 0.0026\n",
      "Test Accuracy of the model on the 10000 test images: 98.46 %\n",
      "Epoch [17/30], Step [600/600], Loss: 0.0212\n",
      "Test Accuracy of the model on the 10000 test images: 98.58 %\n",
      "Epoch [18/30], Step [600/600], Loss: 0.0416\n",
      "Test Accuracy of the model on the 10000 test images: 98.43 %\n",
      "Epoch [19/30], Step [600/600], Loss: 0.0047\n",
      "Test Accuracy of the model on the 10000 test images: 98.5 %\n",
      "Epoch [20/30], Step [600/600], Loss: 0.0042\n",
      "Test Accuracy of the model on the 10000 test images: 98.55 %\n",
      "Epoch [21/30], Step [600/600], Loss: 0.0063\n",
      "Test Accuracy of the model on the 10000 test images: 98.54 %\n",
      "Epoch [22/30], Step [600/600], Loss: 0.0009\n",
      "Test Accuracy of the model on the 10000 test images: 98.57 %\n",
      "Epoch [23/30], Step [600/600], Loss: 0.0009\n",
      "Test Accuracy of the model on the 10000 test images: 98.49 %\n",
      "Epoch [24/30], Step [600/600], Loss: 0.0611\n",
      "Test Accuracy of the model on the 10000 test images: 98.57 %\n",
      "Epoch [25/30], Step [600/600], Loss: 0.0105\n",
      "Test Accuracy of the model on the 10000 test images: 98.51 %\n",
      "Epoch [26/30], Step [600/600], Loss: 0.0086\n",
      "Test Accuracy of the model on the 10000 test images: 98.42 %\n",
      "Epoch [27/30], Step [600/600], Loss: 0.0020\n",
      "Test Accuracy of the model on the 10000 test images: 98.48 %\n",
      "Epoch [28/30], Step [600/600], Loss: 0.0065\n",
      "Test Accuracy of the model on the 10000 test images: 98.58 %\n",
      "Epoch [29/30], Step [600/600], Loss: 0.0055\n",
      "Test Accuracy of the model on the 10000 test images: 98.48 %\n",
      "Epoch [30/30], Step [600/600], Loss: 0.0034\n"
     ]
    }
   ],
   "source": [
    "# Train the model\n",
    "train_loss = np.zeros(num_epochs)\n",
    "test_acc = np.zeros(num_epochs)\n",
    "\n",
    "total_step = len(train_loader)\n",
    "for epoch in range(num_epochs):\n",
    "    for i, (images, labels) in enumerate(train_loader):\n",
    "        images = images.reshape(-1, sequence_length, input_size).to(device)\n",
    "        labels = labels.to(device)\n",
    "        \n",
    "        # Forward pass\n",
    "        outputs = model(images)\n",
    "        loss = criterion(outputs, labels)\n",
    "        train_loss[epoch] += loss.item()\n",
    "        \n",
    "        # Backward and optimize\n",
    "        optimizer.zero_grad()\n",
    "        loss.backward()\n",
    "        optimizer.step()\n",
    "        \n",
    "    with torch.no_grad():\n",
    "        correct = 0\n",
    "        total = 0\n",
    "        for images, labels in test_loader:\n",
    "            images = images.reshape(-1, sequence_length, input_size).to(device)\n",
    "            labels = labels.to(device)\n",
    "            outputs = model(images)\n",
    "            _, predicted = torch.max(outputs.data, 1)\n",
    "            total += labels.size(0)\n",
    "            correct += (predicted == labels).sum().item()\n",
    "\n",
    "        test_acc[epoch] = 100 * correct/total\n",
    "        scheduler.step(criterion(outputs, labels))\n",
    "        print('Test Accuracy of the model on the 10000 test images: {} %'.format(100 * correct / total))     \n",
    "        \n",
    "        if (i+1) % 100 == 0:\n",
    "            print ('Epoch [{}/{}], Step [{}/{}], Loss: {:.4f}' \n",
    "                       .format(epoch+1, num_epochs, i+1, total_step, loss.item()))"
   ]
  },
  {
   "cell_type": "code",
   "execution_count": 282,
   "metadata": {},
   "outputs": [
    {
     "data": {
      "image/png": "[encoded data removed]",
      "text/plain": [
       "<Figure size 432x288 with 1 Axes>"
      ]
     },
     "metadata": {
      "needs_background": "light"
     },
     "output_type": "display_data"
    },
    {
     "data": {
      "image/png": "[encoded data removed]",
      "text/plain": [
       "<Figure size 432x288 with 1 Axes>"
      ]
     },
     "metadata": {
      "needs_background": "light"
     },
     "output_type": "display_data"
    }
   ],
   "source": [
    "# Test the model\n",
    "plt.plot(train_loss,markerfacecolor='blue',label=\"Training\")\n",
    "plt.xlabel(\"epoch\")\n",
    "plt.ylabel(\"loss\")\n",
    "plt.title(\"Train Loss v.s. Epochs\")\n",
    "plt.legend()\n",
    "plt.show()\n",
    "plt.plot(test_acc,markerfacecolor='blue',label=\"Training\")\n",
    "plt.xlabel(\"epoch\")\n",
    "plt.ylabel(\"accuracy\")\n",
    "plt.title(\"Test Accuracy v.s. Epochs\")\n",
    "plt.legend()\n",
    "plt.show()"
   ]
  },
  {
   "cell_type": "code",
   "execution_count": 79,
   "metadata": {},
   "outputs": [],
   "source": [
    "# Save the model checkpoint\n",
    "torch.save(model.state_dict(), 'model.ckpt')"
   ]
  },
  {
   "cell_type": "code",
   "execution_count": null,
   "metadata": {},
   "outputs": [],
   "source": []
  }
 ],
 "metadata": {
  "kernelspec": {
   "display_name": "Python 3",
   "language": "python",
   "name": "python3"
  },
  "language_info": {
   "codemirror_mode": {
    "name": "ipython",
    "version": 3
   },
   "file_extension": ".py",
   "mimetype": "text/x-python",
   "name": "python",
   "nbconvert_exporter": "python",
   "pygments_lexer": "ipython3",
   "version": "3.6.8"
  }
 },
 "nbformat": 4,
 "nbformat_minor": 2
}
